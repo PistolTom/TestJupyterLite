{
 "cells": [
  {
   "cell_type": "markdown",
   "id": "d82187c1",
   "metadata": {},
   "source": [
    "# Notebook de test\n",
    "\n",
    "Créez un circuit ici : \n",
    "\n",
    "\n",
    "<iframe style=\"width: 100%; height: 335px; border: 0\" src=\"https://logic.modulo-info.ch/?id=OsnTtC&mode=design&data=N4NwXAbANAxg9gWwA5wHYFNUBcDOZgCWqADPlgJ5LpgDkRNUKeA2gIwTFSsBMArALpQCAEzDEAvlDgBXLKWAUqtGVgZMwzACy9eXTcUEiwrSUVZlK1OqjVwW7Tt1YGho7uI9A\"></iframe>\n",
    "\n"
   ]
  },
  {
   "cell_type": "markdown",
   "id": "bc1adefb",
   "metadata": {},
   "source": [
    "---\n",
    "## Exercice 1\n",
    "Faites un truc dans la cellule ci-dessous"
   ]
  },
  {
   "cell_type": "code",
   "execution_count": null,
   "id": "9dab9cea",
   "metadata": {},
   "outputs": [],
   "source": []
  }
 ],
 "metadata": {
  "kernelspec": {
   "display_name": "Python 3 (ipykernel)",
   "language": "python",
   "name": "python3"
  },
  "language_info": {
   "codemirror_mode": {
    "name": "ipython",
    "version": 3
   },
   "file_extension": ".py",
   "mimetype": "text/x-python",
   "name": "python",
   "nbconvert_exporter": "python",
   "pygments_lexer": "ipython3",
   "version": "3.11.3"
  }
 },
 "nbformat": 4,
 "nbformat_minor": 5
}
